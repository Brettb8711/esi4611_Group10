{
 "cells": [
  {
   "cell_type": "code",
   "execution_count": 2,
   "id": "a7b1e63f-ab0a-4907-8813-bc3f69af1ba2",
   "metadata": {
    "tags": []
   },
   "outputs": [
    {
     "name": "stderr",
     "output_type": "stream",
     "text": [
      "2024-04-04 20:55:56.335881: E external/local_xla/xla/stream_executor/cuda/cuda_dnn.cc:9261] Unable to register cuDNN factory: Attempting to register factory for plugin cuDNN when one has already been registered\n",
      "2024-04-04 20:55:56.335958: E external/local_xla/xla/stream_executor/cuda/cuda_fft.cc:607] Unable to register cuFFT factory: Attempting to register factory for plugin cuFFT when one has already been registered\n",
      "2024-04-04 20:55:56.337171: E external/local_xla/xla/stream_executor/cuda/cuda_blas.cc:1515] Unable to register cuBLAS factory: Attempting to register factory for plugin cuBLAS when one has already been registered\n",
      "2024-04-04 20:55:56.344537: I tensorflow/core/platform/cpu_feature_guard.cc:182] This TensorFlow binary is optimized to use available CPU instructions in performance-critical operations.\n",
      "To enable the following instructions: SSE4.1 SSE4.2 AVX AVX2 FMA, in other operations, rebuild TensorFlow with the appropriate compiler flags.\n"
     ]
    }
   ],
   "source": [
    "import os\n",
    "os.environ[\"KERAS_BACKEND\"] = \"jax\" # you can also use tensorflow or torch\n",
    "\n",
    "import keras\n",
    "from keras import ops\n",
    "import tensorflow as tf\n",
    "\n",
    "import cv2\n",
    "import pandas as pd\n",
    "import numpy as np\n",
    "from glob import glob\n",
    "from tqdm.notebook import tqdm\n",
    "import joblib\n",
    "\n",
    "import matplotlib.pyplot as plt "
   ]
  },
  {
   "cell_type": "code",
   "execution_count": null,
   "id": "e443c1b2",
   "metadata": {},
   "outputs": [],
   "source": [
    "%matplotlib inline\n",
    "%pip install --quiet torchvision"
   ]
  },
  {
   "cell_type": "code",
   "execution_count": null,
   "id": "e2151773",
   "metadata": {},
   "outputs": [],
   "source": [
    "import torch\n",
    "from torch import nn\n",
    "from torch.utils.data import DataLoader\n",
    "from torchvision.transforms import ToTensor"
   ]
  },
  {
   "cell_type": "code",
   "execution_count": null,
   "id": "f77a40a7",
   "metadata": {
    "papermill": {
     "duration": 0.018516,
     "end_time": "2024-02-03T04:21:32.638172",
     "exception": false,
     "start_time": "2024-02-03T04:21:32.619656",
     "status": "completed"
    },
    "tags": []
   },
   "outputs": [],
   "source": [
    "BASE_PATH = \"/blue/esi4611/share/planttraits2024\""
   ]
  },
  {
   "cell_type": "code",
   "execution_count": null,
   "id": "dcc6a0d3",
   "metadata": {},
   "outputs": [],
   "source": [
    "#Configuration\n",
    "class CFG:\n",
    "    verbose = 1  # Verbosity\n",
    "    seed = 42  # Random seed\n",
    "    preset = \"efficientnetv2_b2_imagenet\"  # Name of pretrained classifier\n",
    "    image_size = [224, 224]  # Input image size\n",
    "    epochs = 12 # Training epochs\n",
    "    batch_size = 96  # Batch size\n",
    "    lr_mode = \"step\" # LR scheduler mode from one of \"cos\", \"step\", \"exp\"\n",
    "    drop_remainder = True  # Drop incomplete batches\n",
    "    num_classes = 6 # Number of classes in the dataset\n",
    "    num_folds = 5 # Number of folds to split the dataset\n",
    "    fold = 0 # Which fold to set as validation data\n",
    "    class_names = ['X4_mean', 'X11_mean', 'X18_mean',\n",
    "                   'X26_mean', 'X50_mean', 'X3112_mean',]\n",
    "    aux_class_names = list(map(lambda x: x.replace(\"mean\",\"sd\"), class_names))\n",
    "    num_classes = len(class_names)\n",
    "    aux_num_classes = len(aux_class_names)"
   ]
  },
  {
   "cell_type": "code",
   "execution_count": null,
   "id": "69275d87",
   "metadata": {},
   "outputs": [],
   "source": [
    "# Train + Valid\n",
    "train_data = pd.read_csv(f'{BASE_PATH}/train.csv')\n",
    "train_data['image_path'] = f'{BASE_PATH}/train_images/'+train_data['id'].astype(str)+'.jpeg'\n",
    "train_data.loc[:, CFG.aux_class_names] = train_data.loc[:, CFG.aux_class_names].fillna(-1)\n",
    "display(train_data.head(2))\n",
    "\n",
    "# Test\n",
    "test_data = pd.read_csv(f'{BASE_PATH}/test.csv')\n",
    "test_data['image_path'] = f'{BASE_PATH}/test_images/'+test_data['id'].astype(str)+'.jpeg'\n",
    "FEATURE_COLS = test_data.columns[1:-1].tolist()\n",
    "display(test_data.head(2))"
   ]
  },
  {
   "cell_type": "markdown",
   "id": "09469ff7",
   "metadata": {
    "papermill": {
     "duration": 0.529543,
     "end_time": "2024-02-03T05:53:30.004516",
     "exception": false,
     "start_time": "2024-02-03T05:53:29.474973",
     "status": "completed"
    },
    "tags": []
   },
   "source": [
    "# 📩 | Submission"
   ]
  },
  {
   "cell_type": "code",
   "execution_count": 23,
   "id": "6fb284b0",
   "metadata": {
    "execution": {
     "iopub.execute_input": "2024-02-03T05:53:31.143605Z",
     "iopub.status.busy": "2024-02-03T05:53:31.142936Z",
     "iopub.status.idle": "2024-02-03T05:53:31.423796Z",
     "shell.execute_reply": "2024-02-03T05:53:31.422817Z"
    },
    "papermill": {
     "duration": 0.889666,
     "end_time": "2024-02-03T05:53:31.426402",
     "exception": false,
     "start_time": "2024-02-03T05:53:30.536736",
     "status": "completed"
    },
    "tags": []
   },
   "outputs": [
    {
     "data": {
      "text/html": [
       "<div>\n",
       "<style scoped>\n",
       "    .dataframe tbody tr th:only-of-type {\n",
       "        vertical-align: middle;\n",
       "    }\n",
       "\n",
       "    .dataframe tbody tr th {\n",
       "        vertical-align: top;\n",
       "    }\n",
       "\n",
       "    .dataframe thead th {\n",
       "        text-align: right;\n",
       "    }\n",
       "</style>\n",
       "<table border=\"1\" class=\"dataframe\">\n",
       "  <thead>\n",
       "    <tr style=\"text-align: right;\">\n",
       "      <th></th>\n",
       "      <th>id</th>\n",
       "      <th>X4</th>\n",
       "      <th>X11</th>\n",
       "      <th>X18</th>\n",
       "      <th>X26</th>\n",
       "      <th>X50</th>\n",
       "      <th>X3112</th>\n",
       "    </tr>\n",
       "  </thead>\n",
       "  <tbody>\n",
       "    <tr>\n",
       "      <th>0</th>\n",
       "      <td>195066138</td>\n",
       "      <td>-0.099060</td>\n",
       "      <td>1.404266</td>\n",
       "      <td>0.069888</td>\n",
       "      <td>1.254300</td>\n",
       "      <td>-0.025760</td>\n",
       "      <td>121.394836</td>\n",
       "    </tr>\n",
       "    <tr>\n",
       "      <th>1</th>\n",
       "      <td>195524180</td>\n",
       "      <td>0.220290</td>\n",
       "      <td>2.242062</td>\n",
       "      <td>2.832736</td>\n",
       "      <td>9.946978</td>\n",
       "      <td>0.370434</td>\n",
       "      <td>151.271317</td>\n",
       "    </tr>\n",
       "    <tr>\n",
       "      <th>2</th>\n",
       "      <td>172220512</td>\n",
       "      <td>-0.269862</td>\n",
       "      <td>0.496115</td>\n",
       "      <td>0.083798</td>\n",
       "      <td>4.467178</td>\n",
       "      <td>-0.191250</td>\n",
       "      <td>149.784225</td>\n",
       "    </tr>\n",
       "    <tr>\n",
       "      <th>3</th>\n",
       "      <td>195824490</td>\n",
       "      <td>-0.455548</td>\n",
       "      <td>-0.053600</td>\n",
       "      <td>-0.515895</td>\n",
       "      <td>-0.141736</td>\n",
       "      <td>-0.425166</td>\n",
       "      <td>43.501873</td>\n",
       "    </tr>\n",
       "    <tr>\n",
       "      <th>4</th>\n",
       "      <td>191793047</td>\n",
       "      <td>-0.314372</td>\n",
       "      <td>0.328862</td>\n",
       "      <td>-0.089717</td>\n",
       "      <td>0.208312</td>\n",
       "      <td>-0.252556</td>\n",
       "      <td>95.088547</td>\n",
       "    </tr>\n",
       "  </tbody>\n",
       "</table>\n",
       "</div>"
      ],
      "text/plain": [
       "          id        X4       X11       X18       X26       X50       X3112\n",
       "0  195066138 -0.099060  1.404266  0.069888  1.254300 -0.025760  121.394836\n",
       "1  195524180  0.220290  2.242062  2.832736  9.946978  0.370434  151.271317\n",
       "2  172220512 -0.269862  0.496115  0.083798  4.467178 -0.191250  149.784225\n",
       "3  195824490 -0.455548 -0.053600 -0.515895 -0.141736 -0.425166   43.501873\n",
       "4  191793047 -0.314372  0.328862 -0.089717  0.208312 -0.252556   95.088547"
      ]
     },
     "execution_count": 23,
     "metadata": {},
     "output_type": "execute_result"
    }
   ],
   "source": [
    "pred_df = test_data[[\"id\"]].copy()\n",
    "target_cols = [x.replace(\"_mean\",\"\") for x in CFG.class_names]\n",
    "pred_df[target_cols] = preds.tolist()\n",
    "\n",
    "sub_df = pd.read_csv(f'{BASE_PATH}/sample_submission.csv')\n",
    "sub_df = sub_df[[\"id\"]].copy()\n",
    "sub_df = sub_df.merge(pred_df, on=\"id\", how=\"left\")\n",
    "sub_df.to_csv(\"submission.csv\", index=False)\n",
    "sub_df.head()"
   ]
  }
 ],
 "metadata": {
  "kaggle": {
   "accelerator": "gpu",
   "dataSources": [
    {
     "databundleVersionId": 7625529,
     "sourceId": 65626,
     "sourceType": "competition"
    },
    {
     "datasetId": 4308295,
     "sourceId": 7526248,
     "sourceType": "datasetVersion"
    },
    {
     "modelInstanceId": 4598,
     "sourceId": 6127,
     "sourceType": "modelInstanceVersion"
    }
   ],
   "isGpuEnabled": true,
   "isInternetEnabled": true,
   "language": "python",
   "sourceType": "notebook"
  },
  "kernelspec": {
   "display_name": "Tensorflow-2.15",
   "language": "python",
   "name": "tensorflow-2.15"
  },
  "language_info": {
   "codemirror_mode": {
    "name": "ipython",
    "version": 3
   },
   "file_extension": ".py",
   "mimetype": "text/x-python",
   "name": "python",
   "nbconvert_exporter": "python",
   "pygments_lexer": "ipython3",
   "version": "3.11.5"
  },
  "papermill": {
   "default_parameters": {},
   "duration": 5588.341071,
   "end_time": "2024-02-03T05:53:35.480134",
   "environment_variables": {},
   "exception": null,
   "input_path": "__notebook__.ipynb",
   "output_path": "__notebook__.ipynb",
   "parameters": {},
   "start_time": "2024-02-03T04:20:27.139063",
   "version": "2.5.0"
  }
 },
 "nbformat": 4,
 "nbformat_minor": 5
}
