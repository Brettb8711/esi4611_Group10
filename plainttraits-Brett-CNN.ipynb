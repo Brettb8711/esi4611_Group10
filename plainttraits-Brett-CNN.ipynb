{
 "cells": [
  {
   "cell_type": "code",
   "execution_count": 34,
   "id": "2818ddce",
   "metadata": {
    "papermill": {
     "duration": 12.960171,
     "end_time": "2024-02-03T04:21:32.422334",
     "exception": false,
     "start_time": "2024-02-03T04:21:19.462163",
     "status": "completed"
    },
    "tags": []
   },
   "outputs": [],
   "source": [
    "import os\n",
    "os.environ[\"KERAS_BACKEND\"] = \"torch\" \n",
    "\n",
    "import keras_cv\n",
    "import keras\n",
    "from keras import ops\n",
    "import tensorflow as tf\n",
    "\n",
    "import pandas as pd\n",
    "import numpy as np\n",
    "from glob import glob\n",
    "from tqdm import trange\n",
    "import joblib\n",
    "\n",
    "import matplotlib.pyplot as plt "
   ]
  },
  {
   "cell_type": "code",
   "execution_count": 36,
   "id": "05ee38e5-f26f-4f1d-b682-a64f1f896d19",
   "metadata": {
    "tags": []
   },
   "outputs": [
    {
     "name": "stdout",
     "output_type": "stream",
     "text": [
      "4 GPUs are available\n"
     ]
    }
   ],
   "source": [
    "gpus = tf.config.list_physical_devices('GPU')\n",
    "if len(gpus) > 1:\n",
    "    print(f\"{len(gpus)} GPUs are available\")\n",
    "else:\n",
    "    print(\"Multiple GPUs are not available\")"
   ]
  },
  {
   "cell_type": "code",
   "execution_count": 37,
   "id": "815caf2f-132f-431e-8b1a-b2d181b30415",
   "metadata": {
    "papermill": {
     "duration": 0.021463,
     "end_time": "2024-02-03T04:21:32.532402",
     "exception": false,
     "start_time": "2024-02-03T04:21:32.510939",
     "status": "completed"
    },
    "tags": []
   },
   "outputs": [],
   "source": [
    "class CFG:\n",
    "    verbose = 1  # Verbosity\n",
    "    seed = 42  # Random seed\n",
    "    preset = \"efficientnetv2_b2_imagenet\"  # Name of pretrained classifier\n",
    "    image_size = [224, 224]  # Input image size\n",
    "    epochs = 12 # Training epochs\n",
    "    batch_size = 96  # Batch size\n",
    "    lr_mode = \"step\" # LR scheduler mode from one of \"cos\", \"step\", \"exp\"\n",
    "    drop_remainder = True  # Drop incomplete batches\n",
    "    num_classes = 6 # Number of classes in the dataset\n",
    "    num_folds = 5 # Number of folds to split the dataset\n",
    "    fold = 0 # Which fold to set as validation data\n",
    "    class_names = ['X4_mean', 'X11_mean', 'X18_mean',\n",
    "                   'X26_mean', 'X50_mean', 'X3112_mean',]\n",
    "    aux_class_names = list(map(lambda x: x.replace(\"mean\",\"sd\"), class_names))\n",
    "    num_classes = len(class_names)\n",
    "    aux_num_classes = len(aux_class_names)"
   ]
  },
  {
   "cell_type": "code",
   "execution_count": 38,
   "id": "ca3ab15a",
   "metadata": {
    "papermill": {
     "duration": 0.019555,
     "end_time": "2024-02-03T04:21:32.586134",
     "exception": false,
     "start_time": "2024-02-03T04:21:32.566579",
     "status": "completed"
    },
    "tags": []
   },
   "outputs": [],
   "source": [
    "keras.utils.set_random_seed(CFG.seed)"
   ]
  },
  {
   "cell_type": "code",
   "execution_count": 39,
   "id": "f77a40a7",
   "metadata": {
    "papermill": {
     "duration": 0.018516,
     "end_time": "2024-02-03T04:21:32.638172",
     "exception": false,
     "start_time": "2024-02-03T04:21:32.619656",
     "status": "completed"
    },
    "tags": []
   },
   "outputs": [],
   "source": [
    "BASE_PATH = \"/blue/esi4611/share/planttraits2024\""
   ]
  },
  {
   "cell_type": "markdown",
   "id": "8dcf6736",
   "metadata": {
    "papermill": {
     "duration": 0.011177,
     "end_time": "2024-02-03T04:21:32.660539",
     "exception": false,
     "start_time": "2024-02-03T04:21:32.649362",
     "status": "completed"
    },
    "tags": []
   },
   "source": [
    "### Load Datasets"
   ]
  },
  {
   "cell_type": "code",
   "execution_count": 40,
   "id": "12d00c7a",
   "metadata": {
    "papermill": {
     "duration": 3.1606,
     "end_time": "2024-02-03T04:21:35.832602",
     "exception": false,
     "start_time": "2024-02-03T04:21:32.672002",
     "status": "completed"
    },
    "tags": []
   },
   "outputs": [
    {
     "data": {
      "text/html": [
       "<div>\n",
       "<style scoped>\n",
       "    .dataframe tbody tr th:only-of-type {\n",
       "        vertical-align: middle;\n",
       "    }\n",
       "\n",
       "    .dataframe tbody tr th {\n",
       "        vertical-align: top;\n",
       "    }\n",
       "\n",
       "    .dataframe thead th {\n",
       "        text-align: right;\n",
       "    }\n",
       "</style>\n",
       "<table border=\"1\" class=\"dataframe\">\n",
       "  <thead>\n",
       "    <tr style=\"text-align: right;\">\n",
       "      <th></th>\n",
       "      <th>id</th>\n",
       "      <th>WORLDCLIM_BIO1_annual_mean_temperature</th>\n",
       "      <th>WORLDCLIM_BIO12_annual_precipitation</th>\n",
       "      <th>WORLDCLIM_BIO13.BIO14_delta_precipitation_of_wettest_and_dryest_month</th>\n",
       "      <th>WORLDCLIM_BIO15_precipitation_seasonality</th>\n",
       "      <th>WORLDCLIM_BIO4_temperature_seasonality</th>\n",
       "      <th>WORLDCLIM_BIO7_temperature_annual_range</th>\n",
       "      <th>SOIL_bdod_0.5cm_mean_0.01_deg</th>\n",
       "      <th>SOIL_bdod_100.200cm_mean_0.01_deg</th>\n",
       "      <th>SOIL_bdod_15.30cm_mean_0.01_deg</th>\n",
       "      <th>...</th>\n",
       "      <th>X26_mean</th>\n",
       "      <th>X50_mean</th>\n",
       "      <th>X3112_mean</th>\n",
       "      <th>X4_sd</th>\n",
       "      <th>X11_sd</th>\n",
       "      <th>X18_sd</th>\n",
       "      <th>X26_sd</th>\n",
       "      <th>X50_sd</th>\n",
       "      <th>X3112_sd</th>\n",
       "      <th>image_path</th>\n",
       "    </tr>\n",
       "  </thead>\n",
       "  <tbody>\n",
       "    <tr>\n",
       "      <th>0</th>\n",
       "      <td>192027691</td>\n",
       "      <td>12.235703</td>\n",
       "      <td>374.466675</td>\n",
       "      <td>62.524445</td>\n",
       "      <td>72.256844</td>\n",
       "      <td>773.592041</td>\n",
       "      <td>33.277779</td>\n",
       "      <td>125</td>\n",
       "      <td>149</td>\n",
       "      <td>136</td>\n",
       "      <td>...</td>\n",
       "      <td>1.243779</td>\n",
       "      <td>1.849375</td>\n",
       "      <td>50.216034</td>\n",
       "      <td>0.008921</td>\n",
       "      <td>1.601473</td>\n",
       "      <td>0.025441</td>\n",
       "      <td>0.153608</td>\n",
       "      <td>0.279610</td>\n",
       "      <td>15.045054</td>\n",
       "      <td>/blue/esi4611/share/planttraits2024/train_imag...</td>\n",
       "    </tr>\n",
       "    <tr>\n",
       "      <th>1</th>\n",
       "      <td>195542235</td>\n",
       "      <td>17.270555</td>\n",
       "      <td>90.239998</td>\n",
       "      <td>10.351111</td>\n",
       "      <td>38.220940</td>\n",
       "      <td>859.193298</td>\n",
       "      <td>40.009777</td>\n",
       "      <td>124</td>\n",
       "      <td>144</td>\n",
       "      <td>138</td>\n",
       "      <td>...</td>\n",
       "      <td>0.642940</td>\n",
       "      <td>1.353468</td>\n",
       "      <td>574.098472</td>\n",
       "      <td>0.003102</td>\n",
       "      <td>0.258078</td>\n",
       "      <td>0.000866</td>\n",
       "      <td>0.034630</td>\n",
       "      <td>0.010165</td>\n",
       "      <td>11.004477</td>\n",
       "      <td>/blue/esi4611/share/planttraits2024/train_imag...</td>\n",
       "    </tr>\n",
       "  </tbody>\n",
       "</table>\n",
       "<p>2 rows × 177 columns</p>\n",
       "</div>"
      ],
      "text/plain": [
       "          id  WORLDCLIM_BIO1_annual_mean_temperature  \\\n",
       "0  192027691                               12.235703   \n",
       "1  195542235                               17.270555   \n",
       "\n",
       "   WORLDCLIM_BIO12_annual_precipitation  \\\n",
       "0                            374.466675   \n",
       "1                             90.239998   \n",
       "\n",
       "   WORLDCLIM_BIO13.BIO14_delta_precipitation_of_wettest_and_dryest_month  \\\n",
       "0                                          62.524445                       \n",
       "1                                          10.351111                       \n",
       "\n",
       "   WORLDCLIM_BIO15_precipitation_seasonality  \\\n",
       "0                                  72.256844   \n",
       "1                                  38.220940   \n",
       "\n",
       "   WORLDCLIM_BIO4_temperature_seasonality  \\\n",
       "0                              773.592041   \n",
       "1                              859.193298   \n",
       "\n",
       "   WORLDCLIM_BIO7_temperature_annual_range  SOIL_bdod_0.5cm_mean_0.01_deg  \\\n",
       "0                                33.277779                            125   \n",
       "1                                40.009777                            124   \n",
       "\n",
       "   SOIL_bdod_100.200cm_mean_0.01_deg  SOIL_bdod_15.30cm_mean_0.01_deg  ...  \\\n",
       "0                                149                              136  ...   \n",
       "1                                144                              138  ...   \n",
       "\n",
       "   X26_mean  X50_mean  X3112_mean     X4_sd    X11_sd    X18_sd    X26_sd  \\\n",
       "0  1.243779  1.849375   50.216034  0.008921  1.601473  0.025441  0.153608   \n",
       "1  0.642940  1.353468  574.098472  0.003102  0.258078  0.000866  0.034630   \n",
       "\n",
       "     X50_sd   X3112_sd                                         image_path  \n",
       "0  0.279610  15.045054  /blue/esi4611/share/planttraits2024/train_imag...  \n",
       "1  0.010165  11.004477  /blue/esi4611/share/planttraits2024/train_imag...  \n",
       "\n",
       "[2 rows x 177 columns]"
      ]
     },
     "metadata": {},
     "output_type": "display_data"
    },
    {
     "data": {
      "text/html": [
       "<div>\n",
       "<style scoped>\n",
       "    .dataframe tbody tr th:only-of-type {\n",
       "        vertical-align: middle;\n",
       "    }\n",
       "\n",
       "    .dataframe tbody tr th {\n",
       "        vertical-align: top;\n",
       "    }\n",
       "\n",
       "    .dataframe thead th {\n",
       "        text-align: right;\n",
       "    }\n",
       "</style>\n",
       "<table border=\"1\" class=\"dataframe\">\n",
       "  <thead>\n",
       "    <tr style=\"text-align: right;\">\n",
       "      <th></th>\n",
       "      <th>id</th>\n",
       "      <th>WORLDCLIM_BIO1_annual_mean_temperature</th>\n",
       "      <th>WORLDCLIM_BIO12_annual_precipitation</th>\n",
       "      <th>WORLDCLIM_BIO13.BIO14_delta_precipitation_of_wettest_and_dryest_month</th>\n",
       "      <th>WORLDCLIM_BIO15_precipitation_seasonality</th>\n",
       "      <th>WORLDCLIM_BIO4_temperature_seasonality</th>\n",
       "      <th>WORLDCLIM_BIO7_temperature_annual_range</th>\n",
       "      <th>SOIL_bdod_0.5cm_mean_0.01_deg</th>\n",
       "      <th>SOIL_bdod_100.200cm_mean_0.01_deg</th>\n",
       "      <th>SOIL_bdod_15.30cm_mean_0.01_deg</th>\n",
       "      <th>...</th>\n",
       "      <th>VOD_X_1997_2018_multiyear_mean_m04</th>\n",
       "      <th>VOD_X_1997_2018_multiyear_mean_m05</th>\n",
       "      <th>VOD_X_1997_2018_multiyear_mean_m06</th>\n",
       "      <th>VOD_X_1997_2018_multiyear_mean_m07</th>\n",
       "      <th>VOD_X_1997_2018_multiyear_mean_m08</th>\n",
       "      <th>VOD_X_1997_2018_multiyear_mean_m09</th>\n",
       "      <th>VOD_X_1997_2018_multiyear_mean_m10</th>\n",
       "      <th>VOD_X_1997_2018_multiyear_mean_m11</th>\n",
       "      <th>VOD_X_1997_2018_multiyear_mean_m12</th>\n",
       "      <th>image_path</th>\n",
       "    </tr>\n",
       "  </thead>\n",
       "  <tbody>\n",
       "    <tr>\n",
       "      <th>0</th>\n",
       "      <td>195066138</td>\n",
       "      <td>10.55810</td>\n",
       "      <td>961.500000</td>\n",
       "      <td>31.586735</td>\n",
       "      <td>13.728325</td>\n",
       "      <td>648.038208</td>\n",
       "      <td>25.351532</td>\n",
       "      <td>127</td>\n",
       "      <td>152</td>\n",
       "      <td>137</td>\n",
       "      <td>...</td>\n",
       "      <td>0.469694</td>\n",
       "      <td>0.455849</td>\n",
       "      <td>0.528211</td>\n",
       "      <td>0.555653</td>\n",
       "      <td>0.549882</td>\n",
       "      <td>0.542905</td>\n",
       "      <td>0.517507</td>\n",
       "      <td>0.462724</td>\n",
       "      <td>0.427107</td>\n",
       "      <td>/blue/esi4611/share/planttraits2024/test_image...</td>\n",
       "    </tr>\n",
       "    <tr>\n",
       "      <th>1</th>\n",
       "      <td>195524180</td>\n",
       "      <td>7.00287</td>\n",
       "      <td>1120.025513</td>\n",
       "      <td>23.000000</td>\n",
       "      <td>7.258863</td>\n",
       "      <td>973.889404</td>\n",
       "      <td>39.135712</td>\n",
       "      <td>106</td>\n",
       "      <td>167</td>\n",
       "      <td>127</td>\n",
       "      <td>...</td>\n",
       "      <td>0.428838</td>\n",
       "      <td>0.456266</td>\n",
       "      <td>0.470074</td>\n",
       "      <td>0.468038</td>\n",
       "      <td>0.475943</td>\n",
       "      <td>0.483206</td>\n",
       "      <td>0.477197</td>\n",
       "      <td>0.432732</td>\n",
       "      <td>0.423728</td>\n",
       "      <td>/blue/esi4611/share/planttraits2024/test_image...</td>\n",
       "    </tr>\n",
       "  </tbody>\n",
       "</table>\n",
       "<p>2 rows × 165 columns</p>\n",
       "</div>"
      ],
      "text/plain": [
       "          id  WORLDCLIM_BIO1_annual_mean_temperature  \\\n",
       "0  195066138                                10.55810   \n",
       "1  195524180                                 7.00287   \n",
       "\n",
       "   WORLDCLIM_BIO12_annual_precipitation  \\\n",
       "0                            961.500000   \n",
       "1                           1120.025513   \n",
       "\n",
       "   WORLDCLIM_BIO13.BIO14_delta_precipitation_of_wettest_and_dryest_month  \\\n",
       "0                                          31.586735                       \n",
       "1                                          23.000000                       \n",
       "\n",
       "   WORLDCLIM_BIO15_precipitation_seasonality  \\\n",
       "0                                  13.728325   \n",
       "1                                   7.258863   \n",
       "\n",
       "   WORLDCLIM_BIO4_temperature_seasonality  \\\n",
       "0                              648.038208   \n",
       "1                              973.889404   \n",
       "\n",
       "   WORLDCLIM_BIO7_temperature_annual_range  SOIL_bdod_0.5cm_mean_0.01_deg  \\\n",
       "0                                25.351532                            127   \n",
       "1                                39.135712                            106   \n",
       "\n",
       "   SOIL_bdod_100.200cm_mean_0.01_deg  SOIL_bdod_15.30cm_mean_0.01_deg  ...  \\\n",
       "0                                152                              137  ...   \n",
       "1                                167                              127  ...   \n",
       "\n",
       "   VOD_X_1997_2018_multiyear_mean_m04  VOD_X_1997_2018_multiyear_mean_m05  \\\n",
       "0                            0.469694                            0.455849   \n",
       "1                            0.428838                            0.456266   \n",
       "\n",
       "   VOD_X_1997_2018_multiyear_mean_m06  VOD_X_1997_2018_multiyear_mean_m07  \\\n",
       "0                            0.528211                            0.555653   \n",
       "1                            0.470074                            0.468038   \n",
       "\n",
       "   VOD_X_1997_2018_multiyear_mean_m08  VOD_X_1997_2018_multiyear_mean_m09  \\\n",
       "0                            0.549882                            0.542905   \n",
       "1                            0.475943                            0.483206   \n",
       "\n",
       "   VOD_X_1997_2018_multiyear_mean_m10  VOD_X_1997_2018_multiyear_mean_m11  \\\n",
       "0                            0.517507                            0.462724   \n",
       "1                            0.477197                            0.432732   \n",
       "\n",
       "   VOD_X_1997_2018_multiyear_mean_m12  \\\n",
       "0                            0.427107   \n",
       "1                            0.423728   \n",
       "\n",
       "                                          image_path  \n",
       "0  /blue/esi4611/share/planttraits2024/test_image...  \n",
       "1  /blue/esi4611/share/planttraits2024/test_image...  \n",
       "\n",
       "[2 rows x 165 columns]"
      ]
     },
     "metadata": {},
     "output_type": "display_data"
    }
   ],
   "source": [
    "# Train + Valid\n",
    "df = pd.read_csv(f'{BASE_PATH}/train.csv')\n",
    "df['image_path'] = f'{BASE_PATH}/train_images/'+df['id'].astype(str)+'.jpeg'\n",
    "df.loc[:, CFG.aux_class_names] = df.loc[:, CFG.aux_class_names].fillna(-1)\n",
    "display(df.head(2))\n",
    "\n",
    "# Test\n",
    "test_df = pd.read_csv(f'{BASE_PATH}/test.csv')\n",
    "test_df['image_path'] = f'{BASE_PATH}/test_images/'+test_df['id'].astype(str)+'.jpeg'\n",
    "FEATURE_COLS = test_df.columns[1:-1].tolist()\n",
    "display(test_df.head(2))"
   ]
  },
  {
   "cell_type": "code",
   "execution_count": 41,
   "id": "29064d9a",
   "metadata": {
    "papermill": {
     "duration": 0.036997,
     "end_time": "2024-02-03T04:21:35.908330",
     "exception": false,
     "start_time": "2024-02-03T04:21:35.871333",
     "status": "completed"
    },
    "tags": []
   },
   "outputs": [],
   "source": [
    "def build_augmenter():\n",
    "    # Define augmentations\n",
    "    aug_layers = [\n",
    "        keras_cv.layers.RandomBrightness(factor=0.1, value_range=(0, 1)),\n",
    "        keras_cv.layers.RandomContrast(factor=0.1, value_range=(0, 1)),\n",
    "        keras_cv.layers.RandomSaturation(factor=(0.45, 0.55)),\n",
    "        keras_cv.layers.RandomHue(factor=0.1, value_range=(0, 1)),\n",
    "        keras_cv.layers.RandomCutout(height_factor=(0.06, 0.15), width_factor=(0.06, 0.15)),\n",
    "        keras_cv.layers.RandomFlip(mode=\"horizontal_and_vertical\"),\n",
    "        keras_cv.layers.RandomZoom(height_factor=(0.05, 0.15)),\n",
    "        keras_cv.layers.RandomRotation(factor=(0.01, 0.05)),\n",
    "    ]\n",
    "    \n",
    "    # Apply augmentations to random samples\n",
    "    aug_layers = [keras_cv.layers.RandomApply(x, rate=0.5) for x in aug_layers]\n",
    "    \n",
    "    # Build augmentation layer\n",
    "    augmenter = keras_cv.layers.Augmenter(aug_layers)\n",
    "\n",
    "    # Apply augmentations\n",
    "    def augment(inp, label):\n",
    "        images = inp[\"images\"]\n",
    "        aug_data = {\"images\": images}\n",
    "        aug_data = augmenter(aug_data)\n",
    "        inp[\"images\"] = aug_data[\"images\"]\n",
    "        return inp, label\n",
    "    return augment\n",
    "\n",
    "\n",
    "def build_decoder(with_labels=True, target_size=CFG.image_size):\n",
    "    def decode_image(inp):\n",
    "        path = inp[\"images\"]\n",
    "        \n",
    "        # Read jpeg image\n",
    "        file_bytes = tf.io.read_file(path)\n",
    "        image = tf.io.decode_jpeg(file_bytes)\n",
    "        \n",
    "        # Resize\n",
    "        image = tf.image.resize(image, size=target_size, method=\"area\")\n",
    "        \n",
    "        # Rescale image\n",
    "        image = tf.cast(image, tf.float32)\n",
    "        image /= 255.0\n",
    "        \n",
    "        # Reshape\n",
    "        image = tf.reshape(image, [*target_size, 3])\n",
    "        \n",
    "        inp[\"images\"] = image\n",
    "        return inp\n",
    "\n",
    "    def decode_label(label, num_classes):\n",
    "        label = tf.cast(label, tf.float32)\n",
    "        label = tf.reshape(label, [num_classes])\n",
    "        return label\n",
    "\n",
    "    def decode_with_labels(inp, labels=None):\n",
    "        inp = decode_image(inp)\n",
    "        label = decode_label(labels[0], CFG.num_classes)\n",
    "        aux_label = decode_label(labels[1], CFG.aux_num_classes)\n",
    "        return (inp, (label, aux_label))\n",
    "\n",
    "    return decode_with_labels if with_labels else decode_image\n",
    "\n",
    "\n",
    "def build_dataset(\n",
    "    paths,\n",
    "    features,\n",
    "    labels=None,\n",
    "    aux_labels=None,\n",
    "    batch_size=32,\n",
    "    cache=True,\n",
    "    decode_fn=None,\n",
    "    augment_fn=None,\n",
    "    augment=False,\n",
    "    repeat=True,\n",
    "    shuffle=1024,\n",
    "    cache_dir=\"\",\n",
    "    drop_remainder=False,\n",
    "):\n",
    "    if cache_dir != \"\" and cache is True:\n",
    "        os.makedirs(cache_dir, exist_ok=True)\n",
    "\n",
    "    if decode_fn is None:\n",
    "        decode_fn = build_decoder(labels is not None or aux_labels is not None)\n",
    "\n",
    "    if augment_fn is None:\n",
    "        augment_fn = build_augmenter()\n",
    "\n",
    "    AUTO = tf.data.experimental.AUTOTUNE\n",
    "\n",
    "    inp = {\"images\": paths, \"features\": features}\n",
    "    slices = (inp, (labels, aux_labels)) if labels is not None else inp\n",
    "\n",
    "    ds = tf.data.Dataset.from_tensor_slices(slices)\n",
    "    ds = ds.map(decode_fn, num_parallel_calls=AUTO)\n",
    "    ds = ds.cache(cache_dir) if cache else ds\n",
    "    ds = ds.repeat() if repeat else ds\n",
    "    if shuffle:\n",
    "        ds = ds.shuffle(shuffle, seed=CFG.seed)\n",
    "        opt = tf.data.Options()\n",
    "        opt.experimental_deterministic = False\n",
    "        ds = ds.with_options(opt)\n",
    "    ds = ds.batch(batch_size, drop_remainder=drop_remainder)\n",
    "    ds = ds.map(augment_fn, num_parallel_calls=AUTO) if augment else ds\n",
    "    ds = ds.prefetch(AUTO)\n",
    "    return ds"
   ]
  },
  {
   "cell_type": "code",
   "execution_count": 42,
   "id": "70602e2d",
   "metadata": {
    "papermill": {
     "duration": 1.996596,
     "end_time": "2024-02-03T04:21:37.942635",
     "exception": false,
     "start_time": "2024-02-03T04:21:35.946039",
     "status": "completed"
    },
    "tags": []
   },
   "outputs": [
    {
     "name": "stderr",
     "output_type": "stream",
     "text": [
      "/apps/tensorflow/2.15/lib/python3.11/site-packages/sklearn/model_selection/_split.py:737: UserWarning: The least populated class in y has only 1 members, which is less than n_splits=5.\n",
      "  warnings.warn(\n"
     ]
    }
   ],
   "source": [
    "from sklearn.model_selection import StratifiedKFold\n",
    "\n",
    "skf = StratifiedKFold(n_splits=CFG.num_folds, shuffle=True, random_state=42)\n",
    "\n",
    "# Create separate bin for each traits\n",
    "for i, trait in enumerate(CFG.class_names):\n",
    "\n",
    "    # Determine the bin edges dynamically based on the distribution of traits\n",
    "    bin_edges = np.percentile(df[trait], np.linspace(0, 100, CFG.num_folds + 1))\n",
    "    df[f\"bin_{i}\"] = np.digitize(df[trait], bin_edges)\n",
    "\n",
    "# Concatenate the bins into a final bin\n",
    "df[\"final_bin\"] = (\n",
    "    df[[f\"bin_{i}\" for i in range(len(CFG.class_names))]]\n",
    "    .astype(str)\n",
    "    .agg(\"\".join, axis=1)\n",
    ")\n",
    "\n",
    "# Perform the stratified split using final bin\n",
    "df = df.reset_index(drop=True)\n",
    "for fold, (train_idx, valid_idx) in enumerate(skf.split(df, df[\"final_bin\"])):\n",
    "    df.loc[valid_idx, \"fold\"] = fold"
   ]
  },
  {
   "cell_type": "code",
   "execution_count": 43,
   "id": "ee2992af",
   "metadata": {
    "papermill": {
     "duration": 3.629713,
     "end_time": "2024-02-03T04:21:41.611489",
     "exception": false,
     "start_time": "2024-02-03T04:21:37.981776",
     "status": "completed"
    },
    "tags": []
   },
   "outputs": [
    {
     "name": "stdout",
     "output_type": "stream",
     "text": [
      "# Num Train: 44391 | Num Valid: 11098\n"
     ]
    }
   ],
   "source": [
    "from sklearn.preprocessing import StandardScaler\n",
    "\n",
    "# Sample from full data\n",
    "sample_df = df.copy()\n",
    "train_df = sample_df[sample_df.fold != CFG.fold]\n",
    "valid_df = sample_df[sample_df.fold == CFG.fold]\n",
    "print(f\"# Num Train: {len(train_df)} | Num Valid: {len(valid_df)}\")\n",
    "\n",
    "# Normalize features\n",
    "scaler = StandardScaler()\n",
    "train_features = scaler.fit_transform(train_df[FEATURE_COLS].values)\n",
    "valid_features = scaler.transform(valid_df[FEATURE_COLS].values)\n",
    "\n",
    "# Train\n",
    "train_paths = train_df.image_path.values\n",
    "train_labels = train_df[CFG.class_names].values\n",
    "train_aux_labels = train_df[CFG.aux_class_names].values\n",
    "train_ds = build_dataset(train_paths, train_features, train_labels, train_aux_labels,\n",
    "                         batch_size=CFG.batch_size,\n",
    "                         repeat=True, shuffle=True, augment=True, cache=False)\n",
    "\n",
    "# Valid\n",
    "valid_paths = valid_df.image_path.values\n",
    "valid_labels = valid_df[CFG.class_names].values\n",
    "valid_aux_labels = valid_df[CFG.aux_class_names].values\n",
    "valid_ds = build_dataset(valid_paths, valid_features, valid_labels, valid_aux_labels,\n",
    "                         batch_size=CFG.batch_size,\n",
    "                         repeat=False, shuffle=False, augment=False, cache=False)\n"
   ]
  },
  {
   "cell_type": "markdown",
   "id": "ea677fc8",
   "metadata": {
    "papermill": {
     "duration": 0.050566,
     "end_time": "2024-02-03T04:21:48.619604",
     "exception": false,
     "start_time": "2024-02-03T04:21:48.569038",
     "status": "completed"
    },
    "tags": []
   },
   "source": [
    "### Loss Metric"
   ]
  },
  {
   "cell_type": "code",
   "execution_count": 45,
   "id": "b92187b0",
   "metadata": {
    "papermill": {
     "duration": 0.068957,
     "end_time": "2024-02-03T04:21:48.741528",
     "exception": false,
     "start_time": "2024-02-03T04:21:48.672571",
     "status": "completed"
    },
    "tags": []
   },
   "outputs": [],
   "source": [
    "from keras import ops\n",
    "\n",
    "class R2Loss(keras.losses.Loss):\n",
    "    def __init__(self, use_mask=False, name=\"r2_loss\"):\n",
    "        super().__init__(name=name)\n",
    "        self.use_mask = use_mask\n",
    "\n",
    "    def call(self, y_true, y_pred):\n",
    "        if self.use_mask:\n",
    "            mask = (y_true != -1)\n",
    "            y_true = ops.where(mask, y_true, 0.0)\n",
    "            y_pred = ops.where(mask, y_pred, 0.0)\n",
    "        SS_res = ops.sum(ops.square(y_true - y_pred), axis=0)  # (B, C) -> (C,)\n",
    "        SS_tot = ops.sum(ops.square(y_true - ops.mean(y_true, axis=0)), axis=0)  # (B, C) -> (C,)\n",
    "        r2_loss = SS_res / (SS_tot + 1e-6)  # (C,)\n",
    "        return ops.mean(r2_loss)  # ()\n",
    "    \n",
    "class R2Metric(keras.metrics.Metric):\n",
    "    def __init__(self, name=\"r2\", **kwargs):\n",
    "        super(R2Metric, self).__init__(name=name, **kwargs)\n",
    "        self.SS_res = self.add_weight(name='SS_res', shape=(6,), initializer='zeros')\n",
    "        self.SS_tot = self.add_weight(name='SS_tot', shape=(6,) ,initializer='zeros')\n",
    "        self.num_samples = self.add_weight(name='num_samples', initializer='zeros')\n",
    "\n",
    "    def update_state(self, y_true, y_pred, sample_weight=None):\n",
    "        SS_res = ops.sum(ops.square(y_true - y_pred), axis=0)\n",
    "        SS_tot = ops.sum(ops.square(y_true - ops.mean(y_true, axis=0)), axis=0)\n",
    "        self.SS_res.assign_add(SS_res)\n",
    "        self.SS_tot.assign_add(SS_tot)\n",
    "        self.num_samples.assign_add(ops.cast(ops.shape(y_true)[0], \"float32\"))\n",
    "\n",
    "    def result(self):\n",
    "        r2 = 1 - self.SS_res / (self.SS_tot + 1e-6)\n",
    "        return ops.mean(r2)\n",
    "\n",
    "    def reset_states(self):\n",
    "        self.total_SS_res.assign(0)\n",
    "        self.total_SS_tot.assign(0)\n",
    "        self.num_samples.assign(0)"
   ]
  },
  {
   "cell_type": "markdown",
   "id": "7b19a323",
   "metadata": {
    "papermill": {
     "duration": 0.054225,
     "end_time": "2024-02-03T04:21:48.848973",
     "exception": false,
     "start_time": "2024-02-03T04:21:48.794748",
     "status": "completed"
    },
    "tags": []
   },
   "source": [
    "### Model"
   ]
  },
  {
   "cell_type": "code",
   "execution_count": 46,
   "id": "a3fba262",
   "metadata": {
    "papermill": {
     "duration": 25.563943,
     "end_time": "2024-02-03T04:22:14.467098",
     "exception": false,
     "start_time": "2024-02-03T04:21:48.903155",
     "status": "completed"
    },
    "tags": []
   },
   "outputs": [
    {
     "data": {
      "text/html": [
       "<pre style=\"white-space:pre;overflow-x:auto;line-height:normal;font-family:Menlo,'DejaVu Sans Mono',consolas,'Courier New',monospace\"><span style=\"font-weight: bold\">Model: \"functional_5\"</span>\n",
       "</pre>\n"
      ],
      "text/plain": [
       "\u001b[1mModel: \"functional_5\"\u001b[0m\n"
      ]
     },
     "metadata": {},
     "output_type": "display_data"
    },
    {
     "data": {
      "text/html": [
       "<pre style=\"white-space:pre;overflow-x:auto;line-height:normal;font-family:Menlo,'DejaVu Sans Mono',consolas,'Courier New',monospace\">┏━━━━━━━━━━━━━━━━━━━━━┳━━━━━━━━━━━━━━━━━━━┳━━━━━━━━━━━━┳━━━━━━━━━━━━━━━━━━━┓\n",
       "┃<span style=\"font-weight: bold\"> Layer (type)        </span>┃<span style=\"font-weight: bold\"> Output Shape      </span>┃<span style=\"font-weight: bold\">    Param # </span>┃<span style=\"font-weight: bold\"> Connected to      </span>┃\n",
       "┡━━━━━━━━━━━━━━━━━━━━━╇━━━━━━━━━━━━━━━━━━━╇━━━━━━━━━━━━╇━━━━━━━━━━━━━━━━━━━┩\n",
       "│ images (<span style=\"color: #0087ff; text-decoration-color: #0087ff\">InputLayer</span>) │ (<span style=\"color: #00d7ff; text-decoration-color: #00d7ff\">None</span>, <span style=\"color: #00af00; text-decoration-color: #00af00\">224</span>, <span style=\"color: #00af00; text-decoration-color: #00af00\">224</span>,  │          <span style=\"color: #00af00; text-decoration-color: #00af00\">0</span> │ -                 │\n",
       "│                     │ <span style=\"color: #00af00; text-decoration-color: #00af00\">3</span>)                │            │                   │\n",
       "├─────────────────────┼───────────────────┼────────────┼───────────────────┤\n",
       "│ features            │ (<span style=\"color: #00d7ff; text-decoration-color: #00d7ff\">None</span>, <span style=\"color: #00af00; text-decoration-color: #00af00\">163</span>)       │          <span style=\"color: #00af00; text-decoration-color: #00af00\">0</span> │ -                 │\n",
       "│ (<span style=\"color: #0087ff; text-decoration-color: #0087ff\">InputLayer</span>)        │                   │            │                   │\n",
       "├─────────────────────┼───────────────────┼────────────┼───────────────────┤\n",
       "│ efficient_net_v2b2… │ (<span style=\"color: #00d7ff; text-decoration-color: #00d7ff\">None</span>, <span style=\"color: #00af00; text-decoration-color: #00af00\">7</span>, <span style=\"color: #00af00; text-decoration-color: #00af00\">7</span>,      │  <span style=\"color: #00af00; text-decoration-color: #00af00\">8,769,374</span> │ images[<span style=\"color: #00af00; text-decoration-color: #00af00\">0</span>][<span style=\"color: #00af00; text-decoration-color: #00af00\">0</span>]      │\n",
       "│ (<span style=\"color: #0087ff; text-decoration-color: #0087ff\">EfficientNetV2Bac…</span> │ <span style=\"color: #00af00; text-decoration-color: #00af00\">1408</span>)             │            │                   │\n",
       "├─────────────────────┼───────────────────┼────────────┼───────────────────┤\n",
       "│ dense_4 (<span style=\"color: #0087ff; text-decoration-color: #0087ff\">Dense</span>)     │ (<span style=\"color: #00d7ff; text-decoration-color: #00d7ff\">None</span>, <span style=\"color: #00af00; text-decoration-color: #00af00\">326</span>)       │     <span style=\"color: #00af00; text-decoration-color: #00af00\">53,464</span> │ features[<span style=\"color: #00af00; text-decoration-color: #00af00\">0</span>][<span style=\"color: #00af00; text-decoration-color: #00af00\">0</span>]    │\n",
       "├─────────────────────┼───────────────────┼────────────┼───────────────────┤\n",
       "│ global_average_poo… │ (<span style=\"color: #00d7ff; text-decoration-color: #00d7ff\">None</span>, <span style=\"color: #00af00; text-decoration-color: #00af00\">1408</span>)      │          <span style=\"color: #00af00; text-decoration-color: #00af00\">0</span> │ efficient_net_v2… │\n",
       "│ (<span style=\"color: #0087ff; text-decoration-color: #0087ff\">GlobalAveragePool…</span> │                   │            │                   │\n",
       "├─────────────────────┼───────────────────┼────────────┼───────────────────┤\n",
       "│ dense_5 (<span style=\"color: #0087ff; text-decoration-color: #0087ff\">Dense</span>)     │ (<span style=\"color: #00d7ff; text-decoration-color: #00d7ff\">None</span>, <span style=\"color: #00af00; text-decoration-color: #00af00\">64</span>)        │     <span style=\"color: #00af00; text-decoration-color: #00af00\">20,928</span> │ dense_4[<span style=\"color: #00af00; text-decoration-color: #00af00\">0</span>][<span style=\"color: #00af00; text-decoration-color: #00af00\">0</span>]     │\n",
       "├─────────────────────┼───────────────────┼────────────┼───────────────────┤\n",
       "│ dropout_4 (<span style=\"color: #0087ff; text-decoration-color: #0087ff\">Dropout</span>) │ (<span style=\"color: #00d7ff; text-decoration-color: #00d7ff\">None</span>, <span style=\"color: #00af00; text-decoration-color: #00af00\">1408</span>)      │          <span style=\"color: #00af00; text-decoration-color: #00af00\">0</span> │ global_average_p… │\n",
       "├─────────────────────┼───────────────────┼────────────┼───────────────────┤\n",
       "│ dropout_5 (<span style=\"color: #0087ff; text-decoration-color: #0087ff\">Dropout</span>) │ (<span style=\"color: #00d7ff; text-decoration-color: #00d7ff\">None</span>, <span style=\"color: #00af00; text-decoration-color: #00af00\">64</span>)        │          <span style=\"color: #00af00; text-decoration-color: #00af00\">0</span> │ dense_5[<span style=\"color: #00af00; text-decoration-color: #00af00\">0</span>][<span style=\"color: #00af00; text-decoration-color: #00af00\">0</span>]     │\n",
       "├─────────────────────┼───────────────────┼────────────┼───────────────────┤\n",
       "│ concatenate_2       │ (<span style=\"color: #00d7ff; text-decoration-color: #00d7ff\">None</span>, <span style=\"color: #00af00; text-decoration-color: #00af00\">1472</span>)      │          <span style=\"color: #00af00; text-decoration-color: #00af00\">0</span> │ dropout_4[<span style=\"color: #00af00; text-decoration-color: #00af00\">0</span>][<span style=\"color: #00af00; text-decoration-color: #00af00\">0</span>],  │\n",
       "│ (<span style=\"color: #0087ff; text-decoration-color: #0087ff\">Concatenate</span>)       │                   │            │ dropout_5[<span style=\"color: #00af00; text-decoration-color: #00af00\">0</span>][<span style=\"color: #00af00; text-decoration-color: #00af00\">0</span>]   │\n",
       "├─────────────────────┼───────────────────┼────────────┼───────────────────┤\n",
       "│ aux_head (<span style=\"color: #0087ff; text-decoration-color: #0087ff\">Dense</span>)    │ (<span style=\"color: #00d7ff; text-decoration-color: #00d7ff\">None</span>, <span style=\"color: #00af00; text-decoration-color: #00af00\">6</span>)         │      <span style=\"color: #00af00; text-decoration-color: #00af00\">8,838</span> │ concatenate_2[<span style=\"color: #00af00; text-decoration-color: #00af00\">0</span>]… │\n",
       "├─────────────────────┼───────────────────┼────────────┼───────────────────┤\n",
       "│ head (<span style=\"color: #0087ff; text-decoration-color: #0087ff\">Dense</span>)        │ (<span style=\"color: #00d7ff; text-decoration-color: #00d7ff\">None</span>, <span style=\"color: #00af00; text-decoration-color: #00af00\">6</span>)         │      <span style=\"color: #00af00; text-decoration-color: #00af00\">8,838</span> │ concatenate_2[<span style=\"color: #00af00; text-decoration-color: #00af00\">0</span>]… │\n",
       "└─────────────────────┴───────────────────┴────────────┴───────────────────┘\n",
       "</pre>\n"
      ],
      "text/plain": [
       "┏━━━━━━━━━━━━━━━━━━━━━┳━━━━━━━━━━━━━━━━━━━┳━━━━━━━━━━━━┳━━━━━━━━━━━━━━━━━━━┓\n",
       "┃\u001b[1m \u001b[0m\u001b[1mLayer (type)       \u001b[0m\u001b[1m \u001b[0m┃\u001b[1m \u001b[0m\u001b[1mOutput Shape     \u001b[0m\u001b[1m \u001b[0m┃\u001b[1m \u001b[0m\u001b[1m   Param #\u001b[0m\u001b[1m \u001b[0m┃\u001b[1m \u001b[0m\u001b[1mConnected to     \u001b[0m\u001b[1m \u001b[0m┃\n",
       "┡━━━━━━━━━━━━━━━━━━━━━╇━━━━━━━━━━━━━━━━━━━╇━━━━━━━━━━━━╇━━━━━━━━━━━━━━━━━━━┩\n",
       "│ images (\u001b[38;5;33mInputLayer\u001b[0m) │ (\u001b[38;5;45mNone\u001b[0m, \u001b[38;5;34m224\u001b[0m, \u001b[38;5;34m224\u001b[0m,  │          \u001b[38;5;34m0\u001b[0m │ -                 │\n",
       "│                     │ \u001b[38;5;34m3\u001b[0m)                │            │                   │\n",
       "├─────────────────────┼───────────────────┼────────────┼───────────────────┤\n",
       "│ features            │ (\u001b[38;5;45mNone\u001b[0m, \u001b[38;5;34m163\u001b[0m)       │          \u001b[38;5;34m0\u001b[0m │ -                 │\n",
       "│ (\u001b[38;5;33mInputLayer\u001b[0m)        │                   │            │                   │\n",
       "├─────────────────────┼───────────────────┼────────────┼───────────────────┤\n",
       "│ efficient_net_v2b2… │ (\u001b[38;5;45mNone\u001b[0m, \u001b[38;5;34m7\u001b[0m, \u001b[38;5;34m7\u001b[0m,      │  \u001b[38;5;34m8,769,374\u001b[0m │ images[\u001b[38;5;34m0\u001b[0m][\u001b[38;5;34m0\u001b[0m]      │\n",
       "│ (\u001b[38;5;33mEfficientNetV2Bac…\u001b[0m │ \u001b[38;5;34m1408\u001b[0m)             │            │                   │\n",
       "├─────────────────────┼───────────────────┼────────────┼───────────────────┤\n",
       "│ dense_4 (\u001b[38;5;33mDense\u001b[0m)     │ (\u001b[38;5;45mNone\u001b[0m, \u001b[38;5;34m326\u001b[0m)       │     \u001b[38;5;34m53,464\u001b[0m │ features[\u001b[38;5;34m0\u001b[0m][\u001b[38;5;34m0\u001b[0m]    │\n",
       "├─────────────────────┼───────────────────┼────────────┼───────────────────┤\n",
       "│ global_average_poo… │ (\u001b[38;5;45mNone\u001b[0m, \u001b[38;5;34m1408\u001b[0m)      │          \u001b[38;5;34m0\u001b[0m │ efficient_net_v2… │\n",
       "│ (\u001b[38;5;33mGlobalAveragePool…\u001b[0m │                   │            │                   │\n",
       "├─────────────────────┼───────────────────┼────────────┼───────────────────┤\n",
       "│ dense_5 (\u001b[38;5;33mDense\u001b[0m)     │ (\u001b[38;5;45mNone\u001b[0m, \u001b[38;5;34m64\u001b[0m)        │     \u001b[38;5;34m20,928\u001b[0m │ dense_4[\u001b[38;5;34m0\u001b[0m][\u001b[38;5;34m0\u001b[0m]     │\n",
       "├─────────────────────┼───────────────────┼────────────┼───────────────────┤\n",
       "│ dropout_4 (\u001b[38;5;33mDropout\u001b[0m) │ (\u001b[38;5;45mNone\u001b[0m, \u001b[38;5;34m1408\u001b[0m)      │          \u001b[38;5;34m0\u001b[0m │ global_average_p… │\n",
       "├─────────────────────┼───────────────────┼────────────┼───────────────────┤\n",
       "│ dropout_5 (\u001b[38;5;33mDropout\u001b[0m) │ (\u001b[38;5;45mNone\u001b[0m, \u001b[38;5;34m64\u001b[0m)        │          \u001b[38;5;34m0\u001b[0m │ dense_5[\u001b[38;5;34m0\u001b[0m][\u001b[38;5;34m0\u001b[0m]     │\n",
       "├─────────────────────┼───────────────────┼────────────┼───────────────────┤\n",
       "│ concatenate_2       │ (\u001b[38;5;45mNone\u001b[0m, \u001b[38;5;34m1472\u001b[0m)      │          \u001b[38;5;34m0\u001b[0m │ dropout_4[\u001b[38;5;34m0\u001b[0m][\u001b[38;5;34m0\u001b[0m],  │\n",
       "│ (\u001b[38;5;33mConcatenate\u001b[0m)       │                   │            │ dropout_5[\u001b[38;5;34m0\u001b[0m][\u001b[38;5;34m0\u001b[0m]   │\n",
       "├─────────────────────┼───────────────────┼────────────┼───────────────────┤\n",
       "│ aux_head (\u001b[38;5;33mDense\u001b[0m)    │ (\u001b[38;5;45mNone\u001b[0m, \u001b[38;5;34m6\u001b[0m)         │      \u001b[38;5;34m8,838\u001b[0m │ concatenate_2[\u001b[38;5;34m0\u001b[0m]… │\n",
       "├─────────────────────┼───────────────────┼────────────┼───────────────────┤\n",
       "│ head (\u001b[38;5;33mDense\u001b[0m)        │ (\u001b[38;5;45mNone\u001b[0m, \u001b[38;5;34m6\u001b[0m)         │      \u001b[38;5;34m8,838\u001b[0m │ concatenate_2[\u001b[38;5;34m0\u001b[0m]… │\n",
       "└─────────────────────┴───────────────────┴────────────┴───────────────────┘\n"
      ]
     },
     "metadata": {},
     "output_type": "display_data"
    },
    {
     "data": {
      "text/html": [
       "<pre style=\"white-space:pre;overflow-x:auto;line-height:normal;font-family:Menlo,'DejaVu Sans Mono',consolas,'Courier New',monospace\"><span style=\"font-weight: bold\"> Total params: </span><span style=\"color: #00af00; text-decoration-color: #00af00\">8,861,442</span> (33.80 MB)\n",
       "</pre>\n"
      ],
      "text/plain": [
       "\u001b[1m Total params: \u001b[0m\u001b[38;5;34m8,861,442\u001b[0m (33.80 MB)\n"
      ]
     },
     "metadata": {},
     "output_type": "display_data"
    },
    {
     "data": {
      "text/html": [
       "<pre style=\"white-space:pre;overflow-x:auto;line-height:normal;font-family:Menlo,'DejaVu Sans Mono',consolas,'Courier New',monospace\"><span style=\"font-weight: bold\"> Trainable params: </span><span style=\"color: #00af00; text-decoration-color: #00af00\">8,779,154</span> (33.49 MB)\n",
       "</pre>\n"
      ],
      "text/plain": [
       "\u001b[1m Trainable params: \u001b[0m\u001b[38;5;34m8,779,154\u001b[0m (33.49 MB)\n"
      ]
     },
     "metadata": {},
     "output_type": "display_data"
    },
    {
     "data": {
      "text/html": [
       "<pre style=\"white-space:pre;overflow-x:auto;line-height:normal;font-family:Menlo,'DejaVu Sans Mono',consolas,'Courier New',monospace\"><span style=\"font-weight: bold\"> Non-trainable params: </span><span style=\"color: #00af00; text-decoration-color: #00af00\">82,288</span> (321.44 KB)\n",
       "</pre>\n"
      ],
      "text/plain": [
       "\u001b[1m Non-trainable params: \u001b[0m\u001b[38;5;34m82,288\u001b[0m (321.44 KB)\n"
      ]
     },
     "metadata": {},
     "output_type": "display_data"
    }
   ],
   "source": [
    "# Define input layers\n",
    "img_input = keras.Input(shape=(*CFG.image_size, 3), name=\"images\")\n",
    "feat_input = keras.Input(shape=(len(FEATURE_COLS),), name=\"features\")\n",
    "\n",
    "# Branch for image input\n",
    "backbone = keras_cv.models.EfficientNetV2Backbone.from_preset(CFG.preset)\n",
    "x1 = backbone(img_input)\n",
    "x1 = keras.layers.GlobalAveragePooling2D()(x1)\n",
    "x1 = keras.layers.Dropout(0.2)(x1)\n",
    "\n",
    "# Branch for tabular/feature input\n",
    "x2 = keras.layers.Dense(326, activation=\"selu\")(feat_input)\n",
    "x2 = keras.layers.Dense(64, activation=\"selu\")(x2)\n",
    "x2 = keras.layers.Dropout(0.1)(x2)\n",
    "\n",
    "# Concatenate both branches\n",
    "concat = keras.layers.Concatenate()([x1, x2])\n",
    "\n",
    "# Output layer\n",
    "out1 = keras.layers.Dense(CFG.num_classes, activation=None, name=\"head\")(concat)\n",
    "out2 = keras.layers.Dense(CFG.aux_num_classes, activation=\"relu\", name=\"aux_head\")(concat)\n",
    "out = {\"head\": out1, \"aux_head\":out2}\n",
    "\n",
    "# Build model\n",
    "model = keras.models.Model([img_input, feat_input], out)\n",
    "\n",
    "# Compile the model\n",
    "model.compile(\n",
    "    optimizer=keras.optimizers.Adam(learning_rate=1e-4),\n",
    "    loss={\n",
    "        \"head\": R2Loss(use_mask=False),\n",
    "        \"aux_head\": R2Loss(use_mask=True), # use_mask to ignore `NaN` auxiliary labels\n",
    "    },\n",
    "    loss_weights={\"head\": 1.0, \"aux_head\": 0.3},  # more weight to main task\n",
    "    metrics={\"head\": R2Metric()}, # evaluation metric only on main task\n",
    ")\n",
    "\n",
    "# Model Summary\n",
    "model.summary()"
   ]
  },
  {
   "cell_type": "markdown",
   "id": "12a17f70",
   "metadata": {
    "papermill": {
     "duration": 0.059633,
     "end_time": "2024-02-03T04:22:16.189199",
     "exception": false,
     "start_time": "2024-02-03T04:22:16.129566",
     "status": "completed"
    },
    "tags": []
   },
   "source": [
    "### Training"
   ]
  },
  {
   "cell_type": "code",
   "execution_count": 51,
   "id": "2a4e33d1",
   "metadata": {
    "papermill": {
     "duration": 5324.214954,
     "end_time": "2024-02-03T05:51:00.463631",
     "exception": false,
     "start_time": "2024-02-03T04:22:16.248677",
     "status": "completed"
    },
    "tags": []
   },
   "outputs": [
    {
     "name": "stdout",
     "output_type": "stream",
     "text": [
      "Epoch 1/12\n",
      "\u001b[1m462/462\u001b[0m \u001b[32m━━━━━━━━━━━━━━━━━━━━\u001b[0m\u001b[37m\u001b[0m \u001b[1m155s\u001b[0m 335ms/step - head_r2: -0.0711 - loss: 1.7517 - val_head_r2: 0.0193 - val_loss: 1.3618 - learning_rate: 5.0000e-05\n",
      "Epoch 2/12\n",
      "\u001b[1m462/462\u001b[0m \u001b[32m━━━━━━━━━━━━━━━━━━━━\u001b[0m\u001b[37m\u001b[0m \u001b[1m152s\u001b[0m 330ms/step - head_r2: -0.0226 - loss: 1.3819 - val_head_r2: 0.0343 - val_loss: 1.2467 - learning_rate: 2.8933e-04\n",
      "Epoch 3/12\n",
      "\u001b[1m462/462\u001b[0m \u001b[32m━━━━━━━━━━━━━━━━━━━━\u001b[0m\u001b[37m\u001b[0m \u001b[1m153s\u001b[0m 331ms/step - head_r2: -0.0023 - loss: 1.2777 - val_head_r2: 0.0343 - val_loss: 1.2182 - learning_rate: 5.2867e-04\n",
      "Epoch 4/12\n",
      "\u001b[1m462/462\u001b[0m \u001b[32m━━━━━━━━━━━━━━━━━━━━\u001b[0m\u001b[37m\u001b[0m \u001b[1m152s\u001b[0m 329ms/step - head_r2: 0.0084 - loss: 1.2412 - val_head_r2: 0.0305 - val_loss: 1.2160 - learning_rate: 7.6800e-04\n",
      "Epoch 5/12\n",
      "\u001b[1m462/462\u001b[0m \u001b[32m━━━━━━━━━━━━━━━━━━━━\u001b[0m\u001b[37m\u001b[0m \u001b[1m153s\u001b[0m 330ms/step - head_r2: 0.0163 - loss: 1.2142 - val_head_r2: 0.0364 - val_loss: 1.2019 - learning_rate: 7.6800e-04\n",
      "Epoch 6/12\n",
      "\u001b[1m462/462\u001b[0m \u001b[32m━━━━━━━━━━━━━━━━━━━━\u001b[0m\u001b[37m\u001b[0m \u001b[1m153s\u001b[0m 332ms/step - head_r2: 0.0260 - loss: 1.1886 - val_head_r2: 0.0404 - val_loss: 1.1950 - learning_rate: 5.7600e-04\n",
      "Epoch 7/12\n",
      "\u001b[1m462/462\u001b[0m \u001b[32m━━━━━━━━━━━━━━━━━━━━\u001b[0m\u001b[37m\u001b[0m \u001b[1m152s\u001b[0m 328ms/step - head_r2: 0.0308 - loss: 1.1735 - val_head_r2: 0.0390 - val_loss: 1.1880 - learning_rate: 5.7600e-04\n",
      "Epoch 8/12\n",
      "\u001b[1m462/462\u001b[0m \u001b[32m━━━━━━━━━━━━━━━━━━━━\u001b[0m\u001b[37m\u001b[0m \u001b[1m152s\u001b[0m 330ms/step - head_r2: 0.0396 - loss: 1.1490 - val_head_r2: 0.0427 - val_loss: 1.1772 - learning_rate: 4.3200e-04\n",
      "Epoch 9/12\n",
      "\u001b[1m462/462\u001b[0m \u001b[32m━━━━━━━━━━━━━━━━━━━━\u001b[0m\u001b[37m\u001b[0m \u001b[1m152s\u001b[0m 329ms/step - head_r2: 0.0469 - loss: 1.1284 - val_head_r2: 0.0385 - val_loss: 1.1855 - learning_rate: 4.3200e-04\n",
      "Epoch 10/12\n",
      "\u001b[1m462/462\u001b[0m \u001b[32m━━━━━━━━━━━━━━━━━━━━\u001b[0m\u001b[37m\u001b[0m \u001b[1m152s\u001b[0m 330ms/step - head_r2: 0.0611 - loss: 1.0976 - val_head_r2: 0.0368 - val_loss: 1.1850 - learning_rate: 3.2400e-04\n",
      "Epoch 11/12\n",
      "\u001b[1m462/462\u001b[0m \u001b[32m━━━━━━━━━━━━━━━━━━━━\u001b[0m\u001b[37m\u001b[0m \u001b[1m152s\u001b[0m 328ms/step - head_r2: 0.0719 - loss: 1.0739 - val_head_r2: 0.0307 - val_loss: 1.1968 - learning_rate: 3.2400e-04\n",
      "Epoch 12/12\n",
      "\u001b[1m462/462\u001b[0m \u001b[32m━━━━━━━━━━━━━━━━━━━━\u001b[0m\u001b[37m\u001b[0m \u001b[1m151s\u001b[0m 327ms/step - head_r2: 0.0819 - loss: 1.0511 - val_head_r2: 0.0223 - val_loss: 1.2025 - learning_rate: 2.4300e-04\n"
     ]
    }
   ],
   "source": [
    "history = model.fit(\n",
    "    train_ds,\n",
    "    epochs=CFG.epochs,\n",
    "    callbacks=[lr_cb, ckpt_cb],\n",
    "    steps_per_epoch=len(train_df) // CFG.batch_size,\n",
    "    validation_data=valid_ds,\n",
    "    verbose=CFG.verbose,\n",
    ")"
   ]
  },
  {
   "cell_type": "markdown",
   "id": "bbde081b",
   "metadata": {
    "papermill": {
     "duration": 0.940937,
     "end_time": "2024-02-03T05:51:02.233672",
     "exception": false,
     "start_time": "2024-02-03T05:51:01.292735",
     "status": "completed"
    },
    "tags": []
   },
   "source": [
    "### Results"
   ]
  },
  {
   "cell_type": "code",
   "execution_count": 23,
   "id": "7667ff03",
   "metadata": {
    "papermill": {
     "duration": 0.799303,
     "end_time": "2024-02-03T05:51:04.013563",
     "exception": false,
     "start_time": "2024-02-03T05:51:03.214260",
     "status": "completed"
    },
    "tags": []
   },
   "outputs": [
    {
     "name": "stdout",
     "output_type": "stream",
     "text": [
      "########## Result ##########\n",
      "Best R2: 0.04163\n",
      "Best Epoch: 8\n",
      "############################\n"
     ]
    }
   ],
   "source": [
    "# Best Result\n",
    "best_R2 = max(history.history['val_head_r2'])\n",
    "best_Epoch = np.argmax(history.history['val_head_r2']) + 1\n",
    "print(\"#\" * 10 + \" Result \" + \"#\" * 10)\n",
    "print(f\"Best R2: {best_R2:.5f}\")\n",
    "print(f\"Best Epoch: {best_Epoch}\")\n",
    "print(\"#\" * 28)"
   ]
  },
  {
   "cell_type": "markdown",
   "id": "979c3d50",
   "metadata": {
    "papermill": {
     "duration": 0.843701,
     "end_time": "2024-02-03T05:51:05.764507",
     "exception": false,
     "start_time": "2024-02-03T05:51:04.920806",
     "status": "completed"
    },
    "tags": []
   },
   "source": [
    "### Prediction"
   ]
  },
  {
   "cell_type": "code",
   "execution_count": 24,
   "id": "6d1c48fe",
   "metadata": {
    "papermill": {
     "duration": 11.921519,
     "end_time": "2024-02-03T05:51:20.352757",
     "exception": false,
     "start_time": "2024-02-03T05:51:08.431238",
     "status": "completed"
    },
    "tags": []
   },
   "outputs": [],
   "source": [
    "#Load Best Model Weights\n",
    "model.load_weights(\"best_model.keras\")"
   ]
  },
  {
   "cell_type": "markdown",
   "id": "7844bd36",
   "metadata": {
    "papermill": {
     "duration": 0.522575,
     "end_time": "2024-02-03T05:51:21.393292",
     "exception": false,
     "start_time": "2024-02-03T05:51:20.870717",
     "status": "completed"
    },
    "tags": []
   },
   "source": [
    "### Build Test Dataset"
   ]
  },
  {
   "cell_type": "code",
   "execution_count": 25,
   "id": "be1d7859",
   "metadata": {
    "papermill": {
     "duration": 0.600958,
     "end_time": "2024-02-03T05:51:22.575473",
     "exception": false,
     "start_time": "2024-02-03T05:51:21.974515",
     "status": "completed"
    },
    "tags": []
   },
   "outputs": [],
   "source": [
    "# Test\n",
    "test_paths = test_df.image_path.values\n",
    "test_features = scaler.transform(test_df[FEATURE_COLS].values) \n",
    "test_ds = build_dataset(test_paths, test_features, batch_size=CFG.batch_size,\n",
    "                         repeat=False, shuffle=False, augment=False, cache=False)"
   ]
  },
  {
   "cell_type": "markdown",
   "id": "96f12453",
   "metadata": {
    "papermill": {
     "duration": 0.51979,
     "end_time": "2024-02-03T05:51:23.622562",
     "exception": false,
     "start_time": "2024-02-03T05:51:23.102772",
     "status": "completed"
    },
    "tags": []
   },
   "source": [
    "### Inference\n",
    "\n",
    "As our model outputs predictions for two tasks and our submission requires only one, we will take predictions from the main task (`head`) and ignore predictions from the auxiliary task."
   ]
  },
  {
   "cell_type": "code",
   "execution_count": 26,
   "id": "bd31d5d3",
   "metadata": {
    "papermill": {
     "duration": 124.801537,
     "end_time": "2024-02-03T05:53:28.941191",
     "exception": false,
     "start_time": "2024-02-03T05:51:24.139654",
     "status": "completed"
    },
    "tags": []
   },
   "outputs": [
    {
     "name": "stdout",
     "output_type": "stream",
     "text": [
      "\u001b[1m133/133\u001b[0m \u001b[32m━━━━━━━━━━━━━━━━━━━━\u001b[0m\u001b[37m\u001b[0m \u001b[1m14s\u001b[0m 106ms/step\n"
     ]
    }
   ],
   "source": [
    "preds = model.predict(test_ds)[\"head\"]\n"
   ]
  },
  {
   "cell_type": "markdown",
   "id": "09469ff7",
   "metadata": {
    "papermill": {
     "duration": 0.529543,
     "end_time": "2024-02-03T05:53:30.004516",
     "exception": false,
     "start_time": "2024-02-03T05:53:29.474973",
     "status": "completed"
    },
    "tags": []
   },
   "source": [
    "### Submission"
   ]
  },
  {
   "cell_type": "code",
   "execution_count": 27,
   "id": "6fb284b0",
   "metadata": {
    "papermill": {
     "duration": 0.889666,
     "end_time": "2024-02-03T05:53:31.426402",
     "exception": false,
     "start_time": "2024-02-03T05:53:30.536736",
     "status": "completed"
    },
    "tags": []
   },
   "outputs": [
    {
     "data": {
      "text/html": [
       "<div>\n",
       "<style scoped>\n",
       "    .dataframe tbody tr th:only-of-type {\n",
       "        vertical-align: middle;\n",
       "    }\n",
       "\n",
       "    .dataframe tbody tr th {\n",
       "        vertical-align: top;\n",
       "    }\n",
       "\n",
       "    .dataframe thead th {\n",
       "        text-align: right;\n",
       "    }\n",
       "</style>\n",
       "<table border=\"1\" class=\"dataframe\">\n",
       "  <thead>\n",
       "    <tr style=\"text-align: right;\">\n",
       "      <th></th>\n",
       "      <th>id</th>\n",
       "      <th>X4</th>\n",
       "      <th>X11</th>\n",
       "      <th>X18</th>\n",
       "      <th>X26</th>\n",
       "      <th>X50</th>\n",
       "      <th>X3112</th>\n",
       "    </tr>\n",
       "  </thead>\n",
       "  <tbody>\n",
       "    <tr>\n",
       "      <th>0</th>\n",
       "      <td>195066138</td>\n",
       "      <td>-0.232188</td>\n",
       "      <td>0.828224</td>\n",
       "      <td>-0.081541</td>\n",
       "      <td>-0.213573</td>\n",
       "      <td>-0.172926</td>\n",
       "      <td>130.960205</td>\n",
       "    </tr>\n",
       "    <tr>\n",
       "      <th>1</th>\n",
       "      <td>195524180</td>\n",
       "      <td>0.331368</td>\n",
       "      <td>1.947459</td>\n",
       "      <td>6.851634</td>\n",
       "      <td>12.613889</td>\n",
       "      <td>0.597104</td>\n",
       "      <td>175.721497</td>\n",
       "    </tr>\n",
       "    <tr>\n",
       "      <th>2</th>\n",
       "      <td>172220512</td>\n",
       "      <td>-0.201118</td>\n",
       "      <td>0.530823</td>\n",
       "      <td>0.231562</td>\n",
       "      <td>2.187181</td>\n",
       "      <td>-0.190180</td>\n",
       "      <td>228.282791</td>\n",
       "    </tr>\n",
       "    <tr>\n",
       "      <th>3</th>\n",
       "      <td>195824490</td>\n",
       "      <td>-0.419409</td>\n",
       "      <td>-0.058956</td>\n",
       "      <td>-0.466794</td>\n",
       "      <td>-0.698114</td>\n",
       "      <td>-0.432067</td>\n",
       "      <td>49.943623</td>\n",
       "    </tr>\n",
       "    <tr>\n",
       "      <th>4</th>\n",
       "      <td>191793047</td>\n",
       "      <td>-0.394239</td>\n",
       "      <td>0.396792</td>\n",
       "      <td>-0.151046</td>\n",
       "      <td>-1.020974</td>\n",
       "      <td>-0.325736</td>\n",
       "      <td>153.854340</td>\n",
       "    </tr>\n",
       "  </tbody>\n",
       "</table>\n",
       "</div>"
      ],
      "text/plain": [
       "          id        X4       X11       X18        X26       X50       X3112\n",
       "0  195066138 -0.232188  0.828224 -0.081541  -0.213573 -0.172926  130.960205\n",
       "1  195524180  0.331368  1.947459  6.851634  12.613889  0.597104  175.721497\n",
       "2  172220512 -0.201118  0.530823  0.231562   2.187181 -0.190180  228.282791\n",
       "3  195824490 -0.419409 -0.058956 -0.466794  -0.698114 -0.432067   49.943623\n",
       "4  191793047 -0.394239  0.396792 -0.151046  -1.020974 -0.325736  153.854340"
      ]
     },
     "execution_count": 27,
     "metadata": {},
     "output_type": "execute_result"
    }
   ],
   "source": [
    "pred_df = test_df[[\"id\"]].copy()\n",
    "target_cols = [x.replace(\"_mean\",\"\") for x in CFG.class_names]\n",
    "pred_df[target_cols] = preds.tolist()\n",
    "\n",
    "sub_df = pd.read_csv(f'{BASE_PATH}/sample_submission.csv')\n",
    "sub_df = sub_df[[\"id\"]].copy()\n",
    "sub_df = sub_df.merge(pred_df, on=\"id\", how=\"left\")\n",
    "sub_df.to_csv(\"submission.csv\", index=False)\n",
    "sub_df.head()"
   ]
  }
 ],
 "metadata": {
  "kaggle": {
   "accelerator": "gpu",
   "dataSources": [
    {
     "databundleVersionId": 7625529,
     "sourceId": 65626,
     "sourceType": "competition"
    },
    {
     "datasetId": 4308295,
     "sourceId": 7526248,
     "sourceType": "datasetVersion"
    },
    {
     "modelInstanceId": 4598,
     "sourceId": 6127,
     "sourceType": "modelInstanceVersion"
    }
   ],
   "isGpuEnabled": true,
   "isInternetEnabled": true,
   "language": "python",
   "sourceType": "notebook"
  },
  "kernelspec": {
   "display_name": "Tensorflow-2.15",
   "language": "python",
   "name": "tensorflow-2.15"
  },
  "language_info": {
   "codemirror_mode": {
    "name": "ipython",
    "version": 3
   },
   "file_extension": ".py",
   "mimetype": "text/x-python",
   "name": "python",
   "nbconvert_exporter": "python",
   "pygments_lexer": "ipython3",
   "version": "3.11.5"
  },
  "papermill": {
   "default_parameters": {},
   "duration": 5588.341071,
   "end_time": "2024-02-03T05:53:35.480134",
   "environment_variables": {},
   "exception": null,
   "input_path": "__notebook__.ipynb",
   "output_path": "__notebook__.ipynb",
   "parameters": {},
   "start_time": "2024-02-03T04:20:27.139063",
   "version": "2.5.0"
  },
  "toc-autonumbering": false,
  "toc-showmarkdowntxt": false
 },
 "nbformat": 4,
 "nbformat_minor": 5
}
